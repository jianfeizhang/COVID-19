{
 "cells": [
  {
   "cell_type": "code",
   "execution_count": null,
   "metadata": {
    "colab": {
     "base_uri": "https://localhost:8080/",
     "height": 187
    },
    "colab_type": "code",
    "id": "EEq6d7AUa9Wp",
    "outputId": "d490ea40-c639-45ef-9ce9-6071e4247065"
   },
   "outputs": [],
   "source": [
    "import numpy as np\n",
    "import pandas as pd\n",
    "import matplotlib as mpl\n",
    "from matplotlib import pyplot as plt\n",
    "from datetime import datetime, timedelta"
   ]
  },
  {
   "cell_type": "code",
   "execution_count": null,
   "metadata": {
    "colab": {
     "base_uri": "https://localhost:8080/",
     "height": 187
    },
    "colab_type": "code",
    "id": "EEq6d7AUa9Wp",
    "outputId": "d490ea40-c639-45ef-9ce9-6071e4247065"
   },
   "outputs": [],
   "source": [
    "def OxCGRT():\n",
    "    path = \"https://raw.githubusercontent.com/OxCGRT/covid-policy-tracker/master/data/OxCGRT_latest.csv\"\n",
    "    d = pd.read_csv(path, parse_dates=[\"Date\"], index_col=None, low_memory=False)\n",
    "    d[[\"CountryName\", \"RegionCode\"]] = d[[\"CountryName\", \"RegionCode\"]].fillna(\"\")\n",
    "    d[\"Cases\"], d[\"Deaths\"] = d.ConfirmedCases.fillna(0), d.ConfirmedDeaths.fillna(0)\n",
    "    d[\"Date\"] = pd.to_datetime(d[\"Date\"], format=\"%Y-%m-%d\")\n",
    "    return d\n",
    "\n",
    "\n",
    "def d_region(d, CountryName, RegionCode=\"\"):\n",
    "    return d[(d[\"CountryName\"] == CountryName) & (d[\"RegionCode\"] == RegionCode)].copy()\n",
    "\n",
    "\n",
    "def d_diff(d, cols, dif=1):\n",
    "    d = d.copy(deep=True)\n",
    "    d[cols] = d[cols].diff(dif).fillna(0) / dif\n",
    "    return d\n",
    "\n",
    "def covid_plot(df):\n",
    "    df = df.copy(deep=True)\n",
    "    df1 = d_diff(df, [\"Cases\", \"Deaths\"])\n",
    "    df7 = d_diff(df, [\"Cases\", \"Deaths\"], 7)\n",
    "    \n",
    "    # my personal plot theme, comment it \n",
    "    plt.style.use(\"../name-package/jz-white.mplstyle\")\n",
    "\n",
    "    colors = [mpl.colors.rgb2hex(plt.cm.get_cmap(\"Dark2\", 8)(i)) for i in range(8)]\n",
    "    \n",
    "    mpl.rcParams[\"figure.dpi\"] = 300\n",
    "    fig, ax = plt.subplots(nrows=1, ncols=2, sharey=False, figsize=(15, 3))\n",
    "    plt.subplots_adjust(wspace=0.1, hspace=0)\n",
    "    plt.suptitle(region, y=1, fontweight=\"bold\")\n",
    "\n",
    "    plt.subplot(1, 2, 1)\n",
    "    plt.bar(df1[\"Date\"], df1[\"Cases\"], color=colors[0])\n",
    "    plt.plot(df7[\"Date\"], df7[\"Cases\"], color=colors[1])\n",
    "    plt.ylim([0, 12000])\n",
    "    plt.gca().spines[\"bottom\"].set_position((\"outward\", 0))\n",
    "    plt.xticks(rotation=45)\n",
    "    plt.legend([\"7-day Average\", \"Daily New Cases\"], loc=(0.01, 0.77), ncol=1)\n",
    "\n",
    "    plt.subplot(1, 2, 2)\n",
    "    plt.bar(df1[\"Date\"], df1[\"Deaths\"], color=colors[0])\n",
    "    plt.plot(df7[\"Date\"], df7[\"Deaths\"], color=colors[1])\n",
    "    plt.ylim([0, 250])\n",
    "    plt.gca().spines[\"bottom\"].set_position((\"outward\", 0))\n",
    "    plt.xticks(rotation=45)\n",
    "    plt.legend([\"7-day Average\", \"Daily New Deaths\"], loc=(0.67, 0.77), ncol=1)\n",
    "    plt.show()\n",
    "\n",
    "\n",
    "def d_weekly(df):\n",
    "    df = df.copy(deep=True)\n",
    "    # get weekday column, weekday: Mon=1, Tue=2, ...., Sun=7\n",
    "    df[\"day_of_week_for_end_date\"] = df[\"Date\"].dt.dayofweek + 1\n",
    "    df[[\"Weekly_Total_New_Cases\", \"Weekly_Total_New_Deaths\"]] = (\n",
    "        df[[\"Cases\", \"Deaths\"]].diff(7).fillna(0)\n",
    "    )\n",
    "    df[\"week_start_date\"] = df[\"Date\"] - timedelta(days=6)\n",
    "    df = df.rename(columns={\"Date\": \"week_end_date\"})\n",
    "    df = df[df[\"day_of_week_for_end_date\"] == 5]\n",
    "    cols = [\n",
    "        \"week_start_date\",\n",
    "        \"week_end_date\",\n",
    "        \"day_of_week_for_end_date\",\n",
    "        \"Weekly_Total_New_Cases\",\n",
    "        \"Weekly_Total_New_Deaths\",\n",
    "    ]\n",
    "    df = df[cols].set_index(cols[:3])\n",
    "    return df"
   ]
  },
  {
   "cell_type": "code",
   "execution_count": null,
   "metadata": {
    "colab": {
     "base_uri": "https://localhost:8080/",
     "height": 187
    },
    "colab_type": "code",
    "id": "EEq6d7AUa9Wp",
    "outputId": "d490ea40-c639-45ef-9ce9-6071e4247065"
   },
   "outputs": [],
   "source": [
    "D = OxCGRT()"
   ]
  },
  {
   "cell_type": "code",
   "execution_count": null,
   "metadata": {
    "colab": {
     "base_uri": "https://localhost:8080/",
     "height": 187
    },
    "colab_type": "code",
    "id": "EEq6d7AUa9Wp",
    "outputId": "d490ea40-c639-45ef-9ce9-6071e4247065"
   },
   "outputs": [],
   "source": [
    "region = \"Canada\"\n",
    "d = d_region(D, region)\n",
    "\n",
    "d = d[[\"Date\", \"Cases\", \"Deaths\"]]\n",
    "\n",
    "d = d[d[\"Date\"] < (datetime.today() - timedelta(days=1)).strftime(\"%Y-%m-%d\")]\n",
    "\n",
    "# plot\n",
    "covid_plot(d)"
   ]
  },
  {
   "cell_type": "code",
   "execution_count": null,
   "metadata": {},
   "outputs": [],
   "source": [
    "# weekly total\n",
    "d_weekly(d)"
   ]
  }
 ],
 "metadata": {
  "colab": {
   "authorship_tag": "ABX9TyMraTlQ8kv+xnwl20VqvBEw",
   "include_colab_link": true,
   "name": "TCN_TimeSeries Approach.ipynb",
   "provenance": [],
   "toc_visible": true
  },
  "kernelspec": {
   "display_name": "Python 3",
   "language": "python",
   "name": "python3"
  },
  "language_info": {
   "codemirror_mode": {
    "name": "ipython",
    "version": 3
   },
   "file_extension": ".py",
   "mimetype": "text/x-python",
   "name": "python",
   "nbconvert_exporter": "python",
   "pygments_lexer": "ipython3",
   "version": "3.7.4"
  },
  "widgets": {
   "application/vnd.jupyter.widget-state+json": {
    "2e09e1b207e840bca57333c9d7ac6117": {
     "model_module": "@jupyter-widgets/controls",
     "model_name": "HTMLModel",
     "state": {
      "_dom_classes": [],
      "_model_module": "@jupyter-widgets/controls",
      "_model_module_version": "1.5.0",
      "_model_name": "HTMLModel",
      "_view_count": null,
      "_view_module": "@jupyter-widgets/controls",
      "_view_module_version": "1.5.0",
      "_view_name": "HTMLView",
      "description": "",
      "description_tooltip": null,
      "layout": "IPY_MODEL_498b6f8b6789463887b4b3a6f237d924",
      "placeholder": "​",
      "style": "IPY_MODEL_7f5c424416da4871aba7a7c3ad14d68c",
      "value": " 156/156 [03:57&lt;00:00,  1.53s/it]"
     }
    },
    "498b6f8b6789463887b4b3a6f237d924": {
     "model_module": "@jupyter-widgets/base",
     "model_name": "LayoutModel",
     "state": {
      "_model_module": "@jupyter-widgets/base",
      "_model_module_version": "1.2.0",
      "_model_name": "LayoutModel",
      "_view_count": null,
      "_view_module": "@jupyter-widgets/base",
      "_view_module_version": "1.2.0",
      "_view_name": "LayoutView",
      "align_content": null,
      "align_items": null,
      "align_self": null,
      "border": null,
      "bottom": null,
      "display": null,
      "flex": null,
      "flex_flow": null,
      "grid_area": null,
      "grid_auto_columns": null,
      "grid_auto_flow": null,
      "grid_auto_rows": null,
      "grid_column": null,
      "grid_gap": null,
      "grid_row": null,
      "grid_template_areas": null,
      "grid_template_columns": null,
      "grid_template_rows": null,
      "height": null,
      "justify_content": null,
      "justify_items": null,
      "left": null,
      "margin": null,
      "max_height": null,
      "max_width": null,
      "min_height": null,
      "min_width": null,
      "object_fit": null,
      "object_position": null,
      "order": null,
      "overflow": null,
      "overflow_x": null,
      "overflow_y": null,
      "padding": null,
      "right": null,
      "top": null,
      "visibility": null,
      "width": null
     }
    },
    "76367dff33c247d88f1c2240be90a0d7": {
     "model_module": "@jupyter-widgets/base",
     "model_name": "LayoutModel",
     "state": {
      "_model_module": "@jupyter-widgets/base",
      "_model_module_version": "1.2.0",
      "_model_name": "LayoutModel",
      "_view_count": null,
      "_view_module": "@jupyter-widgets/base",
      "_view_module_version": "1.2.0",
      "_view_name": "LayoutView",
      "align_content": null,
      "align_items": null,
      "align_self": null,
      "border": null,
      "bottom": null,
      "display": null,
      "flex": null,
      "flex_flow": null,
      "grid_area": null,
      "grid_auto_columns": null,
      "grid_auto_flow": null,
      "grid_auto_rows": null,
      "grid_column": null,
      "grid_gap": null,
      "grid_row": null,
      "grid_template_areas": null,
      "grid_template_columns": null,
      "grid_template_rows": null,
      "height": null,
      "justify_content": null,
      "justify_items": null,
      "left": null,
      "margin": null,
      "max_height": null,
      "max_width": null,
      "min_height": null,
      "min_width": null,
      "object_fit": null,
      "object_position": null,
      "order": null,
      "overflow": null,
      "overflow_x": null,
      "overflow_y": null,
      "padding": null,
      "right": null,
      "top": null,
      "visibility": null,
      "width": null
     }
    },
    "7f5c424416da4871aba7a7c3ad14d68c": {
     "model_module": "@jupyter-widgets/controls",
     "model_name": "DescriptionStyleModel",
     "state": {
      "_model_module": "@jupyter-widgets/controls",
      "_model_module_version": "1.5.0",
      "_model_name": "DescriptionStyleModel",
      "_view_count": null,
      "_view_module": "@jupyter-widgets/base",
      "_view_module_version": "1.2.0",
      "_view_name": "StyleView",
      "description_width": ""
     }
    },
    "bebf5d0c2d3042f8be7fec73ed15af54": {
     "model_module": "@jupyter-widgets/base",
     "model_name": "LayoutModel",
     "state": {
      "_model_module": "@jupyter-widgets/base",
      "_model_module_version": "1.2.0",
      "_model_name": "LayoutModel",
      "_view_count": null,
      "_view_module": "@jupyter-widgets/base",
      "_view_module_version": "1.2.0",
      "_view_name": "LayoutView",
      "align_content": null,
      "align_items": null,
      "align_self": null,
      "border": null,
      "bottom": null,
      "display": null,
      "flex": null,
      "flex_flow": null,
      "grid_area": null,
      "grid_auto_columns": null,
      "grid_auto_flow": null,
      "grid_auto_rows": null,
      "grid_column": null,
      "grid_gap": null,
      "grid_row": null,
      "grid_template_areas": null,
      "grid_template_columns": null,
      "grid_template_rows": null,
      "height": null,
      "justify_content": null,
      "justify_items": null,
      "left": null,
      "margin": null,
      "max_height": null,
      "max_width": null,
      "min_height": null,
      "min_width": null,
      "object_fit": null,
      "object_position": null,
      "order": null,
      "overflow": null,
      "overflow_x": null,
      "overflow_y": null,
      "padding": null,
      "right": null,
      "top": null,
      "visibility": null,
      "width": null
     }
    },
    "d3193b57a3fd4706bc6dc19aa65b71e1": {
     "model_module": "@jupyter-widgets/controls",
     "model_name": "FloatProgressModel",
     "state": {
      "_dom_classes": [],
      "_model_module": "@jupyter-widgets/controls",
      "_model_module_version": "1.5.0",
      "_model_name": "FloatProgressModel",
      "_view_count": null,
      "_view_module": "@jupyter-widgets/controls",
      "_view_module_version": "1.5.0",
      "_view_name": "ProgressView",
      "bar_style": "success",
      "description": "100%",
      "description_tooltip": null,
      "layout": "IPY_MODEL_bebf5d0c2d3042f8be7fec73ed15af54",
      "max": 156,
      "min": 0,
      "orientation": "horizontal",
      "style": "IPY_MODEL_e18cae27f2d5475e890a64a948429557",
      "value": 156
     }
    },
    "e18cae27f2d5475e890a64a948429557": {
     "model_module": "@jupyter-widgets/controls",
     "model_name": "ProgressStyleModel",
     "state": {
      "_model_module": "@jupyter-widgets/controls",
      "_model_module_version": "1.5.0",
      "_model_name": "ProgressStyleModel",
      "_view_count": null,
      "_view_module": "@jupyter-widgets/base",
      "_view_module_version": "1.2.0",
      "_view_name": "StyleView",
      "bar_color": null,
      "description_width": "initial"
     }
    },
    "f2df124fb46a42d9a8011c589d478eee": {
     "model_module": "@jupyter-widgets/controls",
     "model_name": "HBoxModel",
     "state": {
      "_dom_classes": [],
      "_model_module": "@jupyter-widgets/controls",
      "_model_module_version": "1.5.0",
      "_model_name": "HBoxModel",
      "_view_count": null,
      "_view_module": "@jupyter-widgets/controls",
      "_view_module_version": "1.5.0",
      "_view_name": "HBoxView",
      "box_style": "",
      "children": [
       "IPY_MODEL_d3193b57a3fd4706bc6dc19aa65b71e1",
       "IPY_MODEL_2e09e1b207e840bca57333c9d7ac6117"
      ],
      "layout": "IPY_MODEL_76367dff33c247d88f1c2240be90a0d7"
     }
    }
   }
  }
 },
 "nbformat": 4,
 "nbformat_minor": 4
}
